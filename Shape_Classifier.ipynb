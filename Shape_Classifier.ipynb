{
 "cells": [
  {
   "cell_type": "code",
   "execution_count": 2,
   "id": "7db98046",
   "metadata": {},
   "outputs": [],
   "source": [
    "#input library\n",
    "import torch\n",
    "import torch.nn as nn\n",
    "import torch.optim as optim\n",
    "import torchvision.transforms as transforms\n",
    "from torch.utils.data import Dataset, DataLoader\n",
    "import numpy as np\n",
    "import matplotlib.pyplot as plt\n",
    "from PIL import Image, ImageDraw\n",
    "import os\n",
    "import random\n",
    "from sklearn.metrics import confusion_matrix, ConfusionMatrixDisplay"
   ]
  },
  {
   "cell_type": "code",
   "execution_count": 3,
   "id": "1872c2c7",
   "metadata": {},
   "outputs": [],
   "source": [
    "#Define Configuration\n",
    "IMG_SIZE = 64 #Image size()\n",
    "NUM_CLASSES = 3 # Circle, Triangle,Square\n",
    "BATCH_SIZE = 16 # 16,32-->1 false,but all predictions are correct after add more layer \n",
    "EPOCHS = 30 #20-->Accuracy 77.62%,30-->80%\n",
    "LEARNING_RATE =0.0001\n",
    "TRAIN_RATIO = 0.7\n",
    "VAL_RATIO = 0.2 # Test = 1 -(train+val)"
   ]
  },
  {
   "cell_type": "code",
   "execution_count": 4,
   "id": "bdff1105",
   "metadata": {},
   "outputs": [],
   "source": [
    "#Dataset Directory Setup\n",
    "dataset_dir = \"./shape_classifier_dataset\"\n",
    "os.makedirs(dataset_dir, exist_ok = True)"
   ]
  },
  {
   "cell_type": "code",
   "execution_count": 5,
   "id": "b06943c9",
   "metadata": {},
   "outputs": [],
   "source": [
    "#function for generating Synthetic Images\n",
    "def generate_shape_image(shape, img_size = IMG_SIZE, random_size = False, random_rotation = False):\n",
    "    img = Image.new(\"RGB\",(img_size, img_size), \"white\")\n",
    "    draw = ImageDraw.Draw(img)\n",
    "    \n",
    "    size = random.randint(15,30)\n",
    "    rotation = random.randint(0,360)\n",
    "    x,y = random.randint(10,30), random.randint(10,30)\n",
    "    if shape == \"Circle\":\n",
    "        draw.ellipse([x, y, x+size, y+size], fill = \"black\")\n",
    "    elif shape == \"Square\":\n",
    "        draw.rectangle([x, y, x+size, y+size], fill = \"black\")\n",
    "    elif shape == \"Triangle\":\n",
    "        points = [(x, y+size), (x + size/2, y), (x+size, y+size)]\n",
    "        draw.polygon(points, fill = \"black\")\n",
    "    img= img.rotate(rotation)\n",
    "    return img"
   ]
  },
  {
   "cell_type": "code",
   "execution_count": 6,
   "id": "143ad311",
   "metadata": {},
   "outputs": [],
   "source": [
    "#Generate and Save Dataset\n",
    "shapes = [\"Circle\", \"Square\", \"Triangle\"]\n",
    "num_image_per_class = 700\n",
    "\n",
    "def create_dataset():\n",
    "    for shape in shapes:\n",
    "        shape_dir = os.path.join(dataset_dir, shape)\n",
    "        os.makedirs(shape_dir, exist_ok = True)\n",
    "        \n",
    "        for i in range(num_image_per_class):\n",
    "            img = generate_shape_image(shape, random_size = True, random_rotation = True)\n",
    "            img.save(os.path.join(shape_dir, f\"{shape}_{i}.png\"))\n",
    "\n",
    "create_dataset()"
   ]
  },
  {
   "cell_type": "code",
   "execution_count": 7,
   "id": "9adcb821",
   "metadata": {},
   "outputs": [],
   "source": [
    "#Custom Pytorch Dataset Class\n",
    "class ShapeDataset(Dataset):\n",
    "    def __init__(self, root_dir, transform = None): #constructor Method\n",
    "        self.root_dir = root_dir #Path to main dataset directory\n",
    "        self.transform = transform #optimal transformation (e.g., resizing)\n",
    "        self.data = [] #list to store inmage file paths\n",
    "        self.label = [] #list to store corresponding lables\n",
    "        \n",
    "        for idx, shape in enumerate(shapes): #loop through shape categories\n",
    "            shape_dir = os.path.join(root_dir, shape) #Path to each shape folder(e.g., dataset/circle/img0.png)\n",
    "            for img_name in os.listdir(shape_dir): #list all image file for individual folder\n",
    "                self.data.append(os.path.join(shape_dir, img_name)) #store image file\n",
    "                self.label.append(idx) #store label\n",
    "                \n",
    "                \n",
    "    def __len__(self):\n",
    "        return len(self.data)\n",
    "    \n",
    "    def __getitem__(self, idx):\n",
    "        img_path = self.data[idx]\n",
    "        img = Image.open(img_path).convert(\"RGB\")\n",
    "        label = self.label[idx]\n",
    "        \n",
    "        if self.transform:\n",
    "            img =  self.transform(img)\n",
    "            \n",
    "        return img, label"
   ]
  },
  {
   "cell_type": "code",
   "execution_count": 8,
   "id": "b09a2bc1",
   "metadata": {},
   "outputs": [],
   "source": [
    "#Data Transfomations\n",
    "transform = transforms.Compose([\n",
    "    transforms.Resize((IMG_SIZE,IMG_SIZE)),\n",
    "    transforms.ToTensor(),\n",
    "    transforms.Normalize((0.5,),(0.5,))\n",
    "    ])"
   ]
  },
  {
   "cell_type": "code",
   "execution_count": 9,
   "id": "310d235e",
   "metadata": {},
   "outputs": [],
   "source": [
    "#load Dataset and Create Dataloaders\n",
    "dataset = ShapeDataset(dataset_dir, transform = transform)\n",
    "train_size = int(TRAIN_RATIO * len(dataset))\n",
    "val_size = int(VAL_RATIO * len(dataset))\n",
    "test_size = len(dataset) - train_size - val_size\n",
    "\n",
    "train_dataset, val_dataset, test_dataset = torch.utils.data.random_split(dataset,[train_size, val_size, test_size])\n",
    "\n",
    "train_loader = DataLoader(train_dataset, batch_size = BATCH_SIZE, shuffle =True)\n",
    "val_loader = DataLoader(val_dataset, batch_size = BATCH_SIZE, shuffle =False)\n",
    "test_loader = DataLoader(test_dataset, batch_size = BATCH_SIZE, shuffle =False)"
   ]
  },
  {
   "cell_type": "code",
   "execution_count": 16,
   "id": "d1046c23",
   "metadata": {},
   "outputs": [],
   "source": [
    "#Define CNN Model\n",
    "class ShapeClassifierCNN(nn.Module):#new class\n",
    "    def __init__(self): #constructor method\n",
    "        super(ShapeClassifierCNN, self).__init__() #parent class's constructor\n",
    "        #Convolutional layer1(Input image with 3 channel(RGB), outputs 16 channels,padding=1-->remain output size same as input)\n",
    "        self.conv1 = nn.Conv2d(3, 16, kernel_size = 3, padding=1) \n",
    "        self.conv2 = nn.Conv2d(16, 32, kernel_size = 3, padding=1)#takes 16 featuremaps --> output 32 feature maps\n",
    "        self.conv3 = nn.Conv2d(32, 64, kernel_size = 3, padding=1)\n",
    "        #256 is commonly used: 4096-->256\n",
    "        self.fc1 = nn.Linear(64 * 8 * 8, 256) #64 feature maps of -->output 256 neurons\n",
    "        self.fc2 = nn.Linear(256, NUM_CLASSES) #256--> number of classes(shapes)\n",
    "        self.pool = nn.MaxPool2d(2, 2) #2x2 max pooling\n",
    "        self.relu = nn.ReLU()\n",
    "    \n",
    "    #data flows through the network\n",
    "    def forward(self, x):\n",
    "        x = self.pool(self.relu(self.conv1(x)))#input:[batch,3,64,64],output after pooling:[batch,16,32,32],maxpool(2,2) cut in half\n",
    "        x = self.pool(self.relu(self.conv2(x)))#input:[batch,16,32,32],output after pooling:[batch,32,16,16]\n",
    "        x = self.pool(self.relu(self.conv3(x)))\n",
    "        x = x.view(x.size(0), -1) # Flatten the tensor from shape[batch,32,16,16] to [batch,8192]\n",
    "        x = self.relu(self.fc1(x)) # Fully Connected Layer + ReLU. output[batch,128]\n",
    "        x = self.fc2(x) #Shape:[batch,Num_class]\n",
    "        return x #return the final output for loss computation or prediction"
   ]
  },
  {
   "cell_type": "code",
   "execution_count": 17,
   "id": "6aa98f92",
   "metadata": {},
   "outputs": [],
   "source": [
    "#Setup loss funciton and optimizer\n",
    "model = ShapeClassifierCNN()\n",
    "criterion = nn.CrossEntropyLoss()\n",
    "optimizer = optim.Adam(model.parameters(), lr=LEARNING_RATE)"
   ]
  },
  {
   "cell_type": "code",
   "execution_count": 18,
   "id": "d360652b",
   "metadata": {},
   "outputs": [
    {
     "name": "stdout",
     "output_type": "stream",
     "text": [
      "Epoch 1/30, Loss: 1.0811\n",
      "Epoch 2/30, Loss: 0.9392\n",
      "Epoch 3/30, Loss: 0.8744\n",
      "Epoch 4/30, Loss: 0.8470\n",
      "Epoch 5/30, Loss: 0.8344\n",
      "Epoch 6/30, Loss: 0.8098\n",
      "Epoch 7/30, Loss: 0.8024\n",
      "Epoch 8/30, Loss: 0.7628\n",
      "Epoch 9/30, Loss: 0.7335\n",
      "Epoch 10/30, Loss: 0.6971\n",
      "Epoch 11/30, Loss: 0.6442\n",
      "Epoch 12/30, Loss: 0.5848\n",
      "Epoch 13/30, Loss: 0.5534\n",
      "Epoch 14/30, Loss: 0.4971\n",
      "Epoch 15/30, Loss: 0.4539\n",
      "Epoch 16/30, Loss: 0.4284\n",
      "Epoch 17/30, Loss: 0.3926\n",
      "Epoch 18/30, Loss: 0.3502\n",
      "Epoch 19/30, Loss: 0.3067\n",
      "Epoch 20/30, Loss: 0.2779\n",
      "Epoch 21/30, Loss: 0.2354\n",
      "Epoch 22/30, Loss: 0.1959\n",
      "Epoch 23/30, Loss: 0.1759\n",
      "Epoch 24/30, Loss: 0.1327\n",
      "Epoch 25/30, Loss: 0.1226\n",
      "Epoch 26/30, Loss: 0.0955\n",
      "Epoch 27/30, Loss: 0.0803\n",
      "Epoch 28/30, Loss: 0.0664\n",
      "Epoch 29/30, Loss: 0.0527\n",
      "Epoch 30/30, Loss: 0.0472\n"
     ]
    }
   ],
   "source": [
    "#Training Loop\n",
    "def train_model(model, train_loader, val_loader, epochs):\n",
    "    for epoch in range(epochs):\n",
    "        model.train()\n",
    "        running_loss = 0.0\n",
    "        for images, labels in train_loader:\n",
    "            optimizer.zero_grad()\n",
    "            outputs = model(images)\n",
    "            loss = criterion(outputs, labels)\n",
    "            loss.backward()\n",
    "            optimizer.step()\n",
    "            running_loss += loss.item()\n",
    "            \n",
    "        print(f\"Epoch {epoch+1}/{epochs}, Loss: {running_loss/len(train_loader):.4f}\")\n",
    "\n",
    "train_model(model, train_loader, val_loader, EPOCHS)"
   ]
  },
  {
   "cell_type": "code",
   "execution_count": 19,
   "id": "9a7c42af",
   "metadata": {},
   "outputs": [
    {
     "name": "stdout",
     "output_type": "stream",
     "text": [
      "Test Accuracy: 95.71%\n"
     ]
    }
   ],
   "source": [
    "#Model Evaluation on Test Set\n",
    "def evaluate_model(model, test_loader):\n",
    "    model.eval()\n",
    "    correct, total =0, 0\n",
    "    all_preds, all_labels = [], []\n",
    "    \n",
    "    with torch.no_grad():\n",
    "        for images, labels in test_loader:\n",
    "            outputs =  model(images)\n",
    "            _, predicted = torch.max(outputs, 1)\n",
    "            correct += (predicted == labels).sum().item()\n",
    "            total += labels.size(0)\n",
    "            all_preds.extend(predicted.cpu().numpy())\n",
    "            all_labels.extend(labels.cpu().numpy())\n",
    "            \n",
    "    print(f\"Test Accuracy: {100 * correct / total:.2f}%\")\n",
    "    return all_preds, all_labels\n",
    "\n",
    "preds, labels = evaluate_model(model, test_loader)"
   ]
  },
  {
   "cell_type": "code",
   "execution_count": 20,
   "id": "84d2b135",
   "metadata": {},
   "outputs": [
    {
     "data": {
      "image/png": "[encoded data removed]",
      "text/plain": [
       "<Figure size 640x480 with 2 Axes>"
      ]
     },
     "metadata": {},
     "output_type": "display_data"
    }
   ],
   "source": [
    "#Confusion Matrix\n",
    "cm = confusion_matrix(labels, preds)\n",
    "disp = ConfusionMatrixDisplay(cm, display_labels = shapes)\n",
    "disp.plot()\n",
    "plt.show()"
   ]
  },
  {
   "cell_type": "code",
   "execution_count": 21,
   "id": "cfe9b893",
   "metadata": {},
   "outputs": [
    {
     "data": {
      "image/png": "[encoded data removed]",
      "text/plain": [
       "<Figure size 1000x200 with 6 Axes>"
      ]
     },
     "metadata": {},
     "output_type": "display_data"
    }
   ],
   "source": [
    "#Visualize Sample Predictions\n",
    "def visualize_predictions(model, test_loader, class_names, num_images):\n",
    "    model.eval()\n",
    "    images, labels = next(iter(test_loader))\n",
    "    \n",
    "    #Move data to CPU if necessary\n",
    "    images = images.cpu()\n",
    "    labels = labels.cpu()\n",
    "    \n",
    "    #Get model predictions\n",
    "    with torch.no_grad():\n",
    "        outputs = model(images)\n",
    "        _, predicted = torch.max(outputs, 1)\n",
    "        \n",
    "    #plot sample predictions\n",
    "    fig, axes = plt.subplots(1, num_images, figsize=(10,2))\n",
    "    for i in range(num_images):\n",
    "        img = images[i].permute(1,2,0).numpy() # Convert from (C,H,W)\n",
    "        img = np.clip(img,0,1) #Ensure values are in valid range for imshow\n",
    "        axes[i].imshow(img)\n",
    "        axes[i].set_title(f'Pred: {class_names[predicted[i].item()]}\\nActual:{class_names[labels[i].item()]}')\n",
    "        axes[i].axis('off')\n",
    "    plt.show()\n",
    "    \n",
    "visualize_predictions(model, test_loader, shapes, 6)"
   ]
  },
  {
   "cell_type": "code",
   "execution_count": null,
   "id": "ef74ed60",
   "metadata": {},
   "outputs": [],
   "source": []
  }
 ],
 "metadata": {
  "kernelspec": {
   "display_name": "Python 3 (ipykernel)",
   "language": "python",
   "name": "python3"
  },
  "language_info": {
   "codemirror_mode": {
    "name": "ipython",
    "version": 3
   },
   "file_extension": ".py",
   "mimetype": "text/x-python",
   "name": "python",
   "nbconvert_exporter": "python",
   "pygments_lexer": "ipython3",
   "version": "3.9.13"
  }
 },
 "nbformat": 4,
 "nbformat_minor": 5
}
